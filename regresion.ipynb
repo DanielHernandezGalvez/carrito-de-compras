{
 "cells": [
  {
   "cell_type": "code",
   "execution_count": 1,
   "metadata": {},
   "outputs": [
    {
     "name": "stdout",
     "output_type": "stream",
     "text": [
      "hola mundo\n"
     ]
    }
   ],
   "source": [
    "import pandas as pd\n",
    "\n",
    "# URL de la base de datos en Google Sheets\n",
    "url = \"https://docs.google.com/spreadsheets/d/1DY9UvAq2tTMpHxkehr0nWdPmrxmoMvP24i-DgGXXCQg/edit?usp=sharing\"\n",
    "\n",
    "# Convertir la URL para que sea legible por pandas\n",
    "url_processed = url.replace('/edit?usp=sharing', '/export?format=xlsx')\n",
    "\n",
    "# Leer solo las primeras 1000 filas para evitar cargar todos los datos\n",
    "df = pd.read_excel(url_processed, nrows=1000)\n",
    "\n",
    "# Mostrar las primeras filas del DataFrame\n",
    "print(df.head())"
   ]
  }
 ],
 "metadata": {
  "kernelspec": {
   "display_name": "base",
   "language": "python",
   "name": "python3"
  },
  "language_info": {
   "codemirror_mode": {
    "name": "ipython",
    "version": 3
   },
   "file_extension": ".py",
   "mimetype": "text/x-python",
   "name": "python",
   "nbconvert_exporter": "python",
   "pygments_lexer": "ipython3",
   "version": "3.11.7"
  }
 },
 "nbformat": 4,
 "nbformat_minor": 2
}
